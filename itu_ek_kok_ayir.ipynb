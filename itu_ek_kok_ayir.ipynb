{
 "cells": [
  {
   "cell_type": "code",
   "execution_count": 1,
   "metadata": {},
   "outputs": [
    {
     "name": "stderr",
     "output_type": "stream",
     "text": [
      "/Users/alibayram/Library/Python/3.9/lib/python/site-packages/urllib3/__init__.py:35: NotOpenSSLWarning: urllib3 v2 only supports OpenSSL 1.1.1+, currently the 'ssl' module is compiled with 'LibreSSL 2.8.3'. See: https://github.com/urllib3/urllib3/issues/3020\n",
      "  warnings.warn(\n"
     ]
    }
   ],
   "source": [
    "import requests\n",
    "\n",
    "cookies = {\n",
    "    'JSESSIONID': 'D3F87FDD7257B2052A21CE4D2305CDBE',\n",
    "}\n",
    "\n",
    "headers = {\n",
    "    'Accept': 'text/html,application/xhtml+xml,application/xml;q=0.9,image/avif,image/webp,image/apng,*/*;q=0.8,application/signed-exchange;v=b3;q=0.7',\n",
    "    'Accept-Language': 'en-US,en;q=0.9,tr;q=0.8',\n",
    "    'Cache-Control': 'max-age=0',\n",
    "    'Connection': 'keep-alive',\n",
    "    'Content-Type': 'application/x-www-form-urlencoded',\n",
    "    # 'Cookie': 'JSESSIONID=D3F87FDD7257B2052A21CE4D2305CDBE',\n",
    "    'Origin': 'http://tools.nlp.itu.edu.tr',\n",
    "    'Referer': 'http://tools.nlp.itu.edu.tr/MorphAnalyzer',\n",
    "    'Upgrade-Insecure-Requests': '1',\n",
    "    'User-Agent': 'Mozilla/5.0 (Macintosh; Intel Mac OS X 10_15_7) AppleWebKit/537.36 (KHTML, like Gecko) Chrome/130.0.0.0 Safari/537.36',\n",
    "}\n"
   ]
  },
  {
   "cell_type": "code",
   "execution_count": 2,
   "metadata": {},
   "outputs": [
    {
     "name": "stderr",
     "output_type": "stream",
     "text": [
      "/Users/alibayram/Library/Python/3.9/lib/python/site-packages/pip_system_certs/wrapt_requests.py:71: UserWarning: Failed to patch SSL settings for unverified requests (unsupported version of urllib3?)\n",
      "This may lead to errors when urllib3 tries to modify verify_mode.\n",
      "Please report an issue at https://gitlab.com/alelec/pip-system-certs with your\n",
      "python version included in the description\n",
      "\n",
      "  warnings.warn(\n"
     ]
    }
   ],
   "source": [
    "data = {\n",
    "    'input': 'şıpsevdiler\\r\\nşıpıdıkçı\\r\\nşıpır\\r\\nşıpırtı\\r\\nşıpşıp\\r\\nşıra\\r\\nşırak\\r\\nşırakkadak\\r\\nşırfıntı\\r\\nşırla\\r\\nşırlağan\\r\\nşırıl\\r\\nşırıltı\\r\\nşırınga\\r\\nşıvgın',\n",
    "    'output': '',\n",
    "}\n",
    "\n",
    "response = requests.post('http://tools.nlp.itu.edu.tr/MorphAnalyzer', cookies=cookies, headers=headers, data=data, verify=False)"
   ]
  },
  {
   "cell_type": "code",
   "execution_count": 9,
   "metadata": {},
   "outputs": [
    {
     "name": "stdout",
     "output_type": "stream",
     "text": [
      "şıpsevdi\n",
      "şıpıdık\n",
      "şıpır\n",
      "şıpırtı\n",
      "şıpşıp\n",
      "şıra\n",
      "şırak\n",
      "şırakkadak\n",
      "şırfıntı\n",
      "şırla\n",
      "şırlağan\n",
      "şırıl\n",
      "şırıltı\n",
      "şırınga\n",
      "şıvgın\n"
     ]
    }
   ],
   "source": [
    "from bs4 import BeautifulSoup\n",
    "\n",
    "soup = BeautifulSoup(response.text, 'html.parser')\n",
    "\n",
    "lines = soup.find('textarea', {'name': 'output'}).text.split('\\n')\n",
    "\n",
    "for line in lines:\n",
    "    if line.strip() == '' or len(line.split()) < 2:\n",
    "        continue\n",
    "    kok = line.split()[1].split('+')[0]\n",
    "    print(kok)"
   ]
  },
  {
   "cell_type": "code",
   "execution_count": 10,
   "metadata": {},
   "outputs": [],
   "source": [
    "def kokleri_getir(text):\n",
    "    data = {\n",
    "        'input': text,\n",
    "        'output': '',\n",
    "    }\n",
    "    response = requests.post('http://tools.nlp.itu.edu.tr/MorphAnalyzer', cookies=cookies, headers=headers, data=data, verify=False)\n",
    "    soup = BeautifulSoup(response.text, 'html.parser')\n",
    "    lines = soup.find('textarea', {'name': 'output'}).text.split('\\n')\n",
    "    kokler = set()\n",
    "    for line in lines:\n",
    "        if line.strip() == '' or len(line.split()) < 2:\n",
    "            continue\n",
    "        kok = line.split()[1].split('+')[0]\n",
    "        kokler.add(kok)\n",
    "    return kokler"
   ]
  },
  {
   "cell_type": "code",
   "execution_count": 7,
   "metadata": {},
   "outputs": [
    {
     "data": {
      "text/plain": [
       "24619"
      ]
     },
     "execution_count": 7,
     "metadata": {},
     "output_type": "execute_result"
    }
   ],
   "source": [
    "kokler_set = set()\n",
    "\n",
    "with open(\"veri/tum_kokler.txt\", \"r\", encoding=\"utf-8\") as f:\n",
    "    for satir in f.readlines():\n",
    "        kokler_set.add(satir.strip().split(' ')[0])\n",
    "\n",
    "len(kokler_set)"
   ]
  },
  {
   "cell_type": "code",
   "execution_count": 22,
   "metadata": {},
   "outputs": [
    {
     "data": {
      "text/plain": [
       "(161, 161)"
      ]
     },
     "execution_count": 22,
     "metadata": {},
     "output_type": "execute_result"
    }
   ],
   "source": [
    "yeni_kokler = set()\n",
    "\n",
    "chunk_size = 161\n",
    "chunks = [list(kokler_set)[i:i + chunk_size] for i in range(0, len(kokler_set), chunk_size)]\n",
    "\n",
    "text = \" \".join(chunks[10])\n",
    "yeni_kokler_i = kokleri_getir(text)\n",
    "\n",
    "len(yeni_kokler_i), len(chunks[10])"
   ]
  },
  {
   "cell_type": "code",
   "execution_count": 23,
   "metadata": {},
   "outputs": [
    {
     "name": "stderr",
     "output_type": "stream",
     "text": [
      "/Users/alibayram/Library/Python/3.9/lib/python/site-packages/pip_system_certs/wrapt_requests.py:71: UserWarning: Failed to patch SSL settings for unverified requests (unsupported version of urllib3?)\n",
      "This may lead to errors when urllib3 tries to modify verify_mode.\n",
      "Please report an issue at https://gitlab.com/alelec/pip-system-certs with your\n",
      "python version included in the description\n",
      "\n",
      "  warnings.warn(\n"
     ]
    },
    {
     "name": "stdout",
     "output_type": "stream",
     "text": [
      "0 161 161\n",
      "1 161 161\n",
      "2 161 161\n",
      "3 161 161\n",
      "4 161 161\n",
      "5 161 161\n",
      "6 160 161\n",
      "7 160 161\n",
      "8 161 161\n",
      "9 161 161\n",
      "10 161 161\n",
      "11 161 161\n",
      "12 160 161\n",
      "13 161 161\n",
      "14 161 161\n",
      "15 160 161\n",
      "16 161 161\n",
      "17 161 161\n",
      "18 161 161\n",
      "19 161 161\n",
      "20 161 161\n",
      "21 161 161\n",
      "22 160 161\n",
      "23 160 161\n",
      "24 161 161\n",
      "25 161 161\n",
      "26 161 161\n",
      "27 161 161\n",
      "28 161 161\n",
      "29 161 161\n",
      "30 161 161\n",
      "31 160 161\n",
      "32 161 161\n",
      "33 161 161\n",
      "34 161 161\n",
      "35 161 161\n",
      "36 161 161\n",
      "37 161 161\n",
      "38 161 161\n",
      "39 161 161\n",
      "40 161 161\n",
      "41 161 161\n",
      "42 161 161\n",
      "43 161 161\n",
      "44 161 161\n",
      "45 161 161\n",
      "46 161 161\n",
      "47 161 161\n",
      "48 161 161\n",
      "49 161 161\n",
      "50 161 161\n",
      "51 161 161\n",
      "52 161 161\n",
      "53 161 161\n",
      "54 161 161\n",
      "55 161 161\n",
      "56 161 161\n",
      "57 161 161\n",
      "58 160 161\n",
      "59 161 161\n",
      "60 160 161\n",
      "61 161 161\n",
      "62 161 161\n",
      "63 160 161\n",
      "64 161 161\n",
      "65 161 161\n",
      "66 161 161\n",
      "67 161 161\n",
      "68 160 161\n",
      "69 161 161\n",
      "70 161 161\n",
      "71 160 161\n",
      "72 160 161\n",
      "73 161 161\n",
      "74 161 161\n",
      "75 161 161\n",
      "76 161 161\n",
      "77 160 161\n",
      "78 161 161\n",
      "79 161 161\n",
      "80 161 161\n",
      "81 161 161\n",
      "82 161 161\n",
      "83 160 161\n",
      "84 161 161\n",
      "85 161 161\n",
      "86 161 161\n",
      "87 160 161\n",
      "88 161 161\n",
      "89 161 161\n",
      "90 161 161\n",
      "91 161 161\n",
      "92 160 161\n",
      "93 161 161\n",
      "94 160 161\n",
      "95 161 161\n",
      "96 161 161\n",
      "97 161 161\n",
      "98 161 161\n",
      "99 161 161\n",
      "100 161 161\n",
      "101 161 161\n",
      "102 161 161\n",
      "103 161 161\n",
      "104 161 161\n",
      "105 161 161\n",
      "106 161 161\n",
      "107 161 161\n",
      "108 161 161\n",
      "109 161 161\n",
      "110 161 161\n",
      "111 161 161\n",
      "112 161 161\n",
      "113 161 161\n",
      "114 159 161\n",
      "115 161 161\n",
      "116 161 161\n",
      "117 160 161\n",
      "118 161 161\n",
      "119 161 161\n",
      "120 161 161\n",
      "121 161 161\n",
      "122 161 161\n",
      "123 160 161\n",
      "124 161 161\n",
      "125 161 161\n",
      "126 161 161\n",
      "127 161 161\n",
      "128 161 161\n",
      "129 161 161\n",
      "130 161 161\n",
      "131 161 161\n",
      "132 161 161\n",
      "133 161 161\n",
      "134 161 161\n",
      "135 160 161\n",
      "136 161 161\n",
      "137 161 161\n",
      "138 161 161\n",
      "139 161 161\n",
      "140 161 161\n",
      "141 161 161\n",
      "142 161 161\n",
      "143 161 161\n",
      "144 161 161\n",
      "145 161 161\n",
      "146 160 161\n",
      "147 161 161\n",
      "148 161 161\n",
      "149 161 161\n",
      "150 161 161\n",
      "151 161 161\n",
      "152 147 147\n"
     ]
    },
    {
     "data": {
      "text/plain": [
       "23654"
      ]
     },
     "execution_count": 23,
     "metadata": {},
     "output_type": "execute_result"
    }
   ],
   "source": [
    "for i, chunk in enumerate(chunks):\n",
    "    text = \" \".join(chunk)\n",
    "    yeni_kokler_i = kokleri_getir(text)\n",
    "    print(i, len(yeni_kokler_i), len(chunk))\n",
    "    yeni_kokler.update(yeni_kokler_i)\n",
    "\n",
    "len(yeni_kokler)"
   ]
  },
  {
   "cell_type": "code",
   "execution_count": 24,
   "metadata": {},
   "outputs": [],
   "source": [
    "with open(\"veri/after_itu_kokler.txt\", \"w\", encoding=\"utf-8\") as f:\n",
    "    kok_sirali_liste = sorted(list(yeni_kokler))\n",
    "    for kok in kok_sirali_liste:\n",
    "        print(kok, file=f, flush=True)"
   ]
  },
  {
   "cell_type": "code",
   "execution_count": null,
   "metadata": {},
   "outputs": [],
   "source": []
  }
 ],
 "metadata": {
  "kernelspec": {
   "display_name": "Python 3",
   "language": "python",
   "name": "python3"
  },
  "language_info": {
   "codemirror_mode": {
    "name": "ipython",
    "version": 3
   },
   "file_extension": ".py",
   "mimetype": "text/x-python",
   "name": "python",
   "nbconvert_exporter": "python",
   "pygments_lexer": "ipython3",
   "version": "3.9.6"
  }
 },
 "nbformat": 4,
 "nbformat_minor": 2
}
