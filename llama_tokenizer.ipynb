{
 "cells": [
  {
   "cell_type": "code",
   "execution_count": 1,
   "metadata": {},
   "outputs": [
    {
     "name": "stderr",
     "output_type": "stream",
     "text": [
      "/Users/alibayram/Library/Python/3.9/lib/python/site-packages/urllib3/__init__.py:35: NotOpenSSLWarning: urllib3 v2 only supports OpenSSL 1.1.1+, currently the 'ssl' module is compiled with 'LibreSSL 2.8.3'. See: https://github.com/urllib3/urllib3/issues/3020\n",
      "  warnings.warn(\n"
     ]
    },
    {
     "data": {
      "application/vnd.jupyter.widget-view+json": {
       "model_id": "5d63909dd7c94c13b68b451692c34c4f",
       "version_major": 2,
       "version_minor": 0
      },
      "text/plain": [
       "tokenizer_config.json:   0%|          | 0.00/54.5k [00:00<?, ?B/s]"
      ]
     },
     "metadata": {},
     "output_type": "display_data"
    },
    {
     "data": {
      "application/vnd.jupyter.widget-view+json": {
       "model_id": "08d216b77a7f4118b9469144736e6e6d",
       "version_major": 2,
       "version_minor": 0
      },
      "text/plain": [
       "tokenizer.json:   0%|          | 0.00/9.09M [00:00<?, ?B/s]"
      ]
     },
     "metadata": {},
     "output_type": "display_data"
    },
    {
     "data": {
      "application/vnd.jupyter.widget-view+json": {
       "model_id": "d6c2aa82d7004a4dae59cb62e1de8353",
       "version_major": 2,
       "version_minor": 0
      },
      "text/plain": [
       "special_tokens_map.json:   0%|          | 0.00/296 [00:00<?, ?B/s]"
      ]
     },
     "metadata": {},
     "output_type": "display_data"
    }
   ],
   "source": [
    "# Load model directly\n",
    "from transformers import AutoTokenizer\n",
    "\n",
    "tokenizer = AutoTokenizer.from_pretrained(\"meta-llama/Llama-3.2-3B-Instruct\")\n"
   ]
  },
  {
   "cell_type": "code",
   "execution_count": 2,
   "metadata": {},
   "outputs": [],
   "source": [
    "ornek_metin = \"Selamlar, son 8 aydır her Cumartesi, YouTube kanalımda o haftanın yapay zeka haberlerini derlediğim bir video paylaşıyorum.\""
   ]
  },
  {
   "cell_type": "code",
   "execution_count": 5,
   "metadata": {},
   "outputs": [
    {
     "data": {
      "text/plain": [
       "['Sel',\n",
       " 'aml',\n",
       " 'ar',\n",
       " ',',\n",
       " 'Ġson',\n",
       " 'Ġ',\n",
       " '8',\n",
       " 'Ġay',\n",
       " 'dÄ±r',\n",
       " 'Ġher',\n",
       " 'ĠCum',\n",
       " 'art',\n",
       " 'esi',\n",
       " ',',\n",
       " 'ĠYouTube',\n",
       " 'Ġkan',\n",
       " 'alÄ±',\n",
       " 'md',\n",
       " 'a',\n",
       " 'Ġo',\n",
       " 'Ġhaft',\n",
       " 'anÄ±n',\n",
       " 'Ġyap',\n",
       " 'ay',\n",
       " 'Ġz',\n",
       " 'eka',\n",
       " 'Ġhaber',\n",
       " 'lerini',\n",
       " 'Ġder',\n",
       " 'ledi',\n",
       " 'ÄŁim',\n",
       " 'Ġbir',\n",
       " 'Ġvideo',\n",
       " 'Ġpay',\n",
       " 'la',\n",
       " 'ÅŁÄ±',\n",
       " 'y',\n",
       " 'orum',\n",
       " '.']"
      ]
     },
     "execution_count": 5,
     "metadata": {},
     "output_type": "execute_result"
    }
   ],
   "source": [
    "tokenler = tokenizer.tokenize(ornek_metin)\n",
    "tokenizer.save_pretrained(\"llama32_tokenizer\")\n",
    "\n",
    "tokenler"
   ]
  },
  {
   "cell_type": "code",
   "execution_count": 8,
   "metadata": {},
   "outputs": [
    {
     "data": {
      "text/plain": [
       "['Sel',\n",
       " 'aml',\n",
       " 'ar',\n",
       " ',',\n",
       " 'Ġson',\n",
       " 'Ġ',\n",
       " '8',\n",
       " 'Ġay',\n",
       " 'dÄ±r',\n",
       " 'Ġher',\n",
       " 'ĠCum',\n",
       " 'art',\n",
       " 'esi',\n",
       " ',',\n",
       " 'ĠYouTube',\n",
       " 'Ġkan',\n",
       " 'alÄ±',\n",
       " 'md',\n",
       " 'a',\n",
       " 'Ġo',\n",
       " 'Ġhaft',\n",
       " 'anÄ±n',\n",
       " 'Ġyap',\n",
       " 'ay',\n",
       " 'Ġz',\n",
       " 'eka',\n",
       " 'Ġhaber',\n",
       " 'lerini',\n",
       " 'Ġder',\n",
       " 'ledi',\n",
       " 'ÄŁim',\n",
       " 'Ġbir',\n",
       " 'Ġvideo',\n",
       " 'Ġpay',\n",
       " 'la',\n",
       " 'ÅŁÄ±',\n",
       " 'y',\n",
       " 'orum',\n",
       " '.']"
      ]
     },
     "execution_count": 8,
     "metadata": {},
     "output_type": "execute_result"
    }
   ],
   "source": [
    "tokenizer2 = AutoTokenizer.from_pretrained(\"llama32_tokenizer\")\n",
    "tokenler2 = tokenizer2.tokenize(ornek_metin)\n",
    "tokenler2"
   ]
  }
 ],
 "metadata": {
  "kernelspec": {
   "display_name": "Python 3",
   "language": "python",
   "name": "python3"
  },
  "language_info": {
   "codemirror_mode": {
    "name": "ipython",
    "version": 3
   },
   "file_extension": ".py",
   "mimetype": "text/x-python",
   "name": "python",
   "nbconvert_exporter": "python",
   "pygments_lexer": "ipython3",
   "version": "3.9.6"
  }
 },
 "nbformat": 4,
 "nbformat_minor": 2
}
